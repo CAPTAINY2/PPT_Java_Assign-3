{
  "nbformat": 4,
  "nbformat_minor": 0,
  "metadata": {
    "colab": {
      "provenance": [],
      "authorship_tag": "ABX9TyONXKQNSKTwjfKRoo9zgiQE",
      "include_colab_link": true
    },
    "kernelspec": {
      "name": "python3",
      "display_name": "Python 3"
    },
    "language_info": {
      "name": "python"
    }
  },
  "cells": [
    {
      "cell_type": "markdown",
      "metadata": {
        "id": "view-in-github",
        "colab_type": "text"
      },
      "source": [
        "<a href=\"https://colab.research.google.com/github/CAPTAINY2/PPT_Java_Assign-3/blob/main/PPT_Java_Assign_3.ipynb\" target=\"_parent\"><img src=\"https://colab.research.google.com/assets/colab-badge.svg\" alt=\"Open In Colab\"/></a>"
      ]
    },
    {
      "cell_type": "markdown",
      "source": [
        "### QUESTION-1"
      ],
      "metadata": {
        "id": "VQOpd2xdApmd"
      }
    },
    {
      "cell_type": "code",
      "source": [
        "class BankAccount:\n",
        "    def __init__(self, account_holder_name, initial_balance=0):\n",
        "        self.account_holder_name = account_holder_name\n",
        "        self.balance = initial_balance\n",
        "\n",
        "    def deposit(self, amount):\n",
        "        self.balance += amount\n",
        "        print(f\"Deposited {amount} into the account. Current balance: {self.balance}\")\n",
        "\n",
        "    def withdraw(self, amount):\n",
        "        if self.balance >= amount:\n",
        "            self.balance -= amount\n",
        "            print(f\"Withdrew {amount} from the account. Current balance: {self.balance}\")\n",
        "        else:\n",
        "            print(\"Insufficient balance.\")\n",
        "\n",
        "    def get_balance(self):\n",
        "        print(f\"Account Holder: {self.account_holder_name}\")\n",
        "        print(f\"Current Balance: {self.balance}\")\n",
        "\n",
        "\n",
        "account = BankAccount(\"UPENDRA PAL\", 1000000000000)\n",
        "\n",
        "account.get_balance()\n",
        "account.deposit(50000000000)\n",
        "account.withdraw(20000000000)\n",
        "account.withdraw(150000000000)\n",
        "account.get_balance()\n"
      ],
      "metadata": {
        "colab": {
          "base_uri": "https://localhost:8080/"
        },
        "id": "S8V5NfA180By",
        "outputId": "8f29d50f-ea86-4e64-fac4-21ffda2f70af"
      },
      "execution_count": null,
      "outputs": [
        {
          "output_type": "stream",
          "name": "stdout",
          "text": [
            "Account Holder: UPENDRA PAL\n",
            "Current Balance: 1000000000000\n",
            "Deposited 50000000000 into the account. Current balance: 1050000000000\n",
            "Withdrew 20000000000 from the account. Current balance: 1030000000000\n",
            "Withdrew 150000000000 from the account. Current balance: 880000000000\n",
            "Account Holder: UPENDRA PAL\n",
            "Current Balance: 880000000000\n"
          ]
        }
      ]
    },
    {
      "cell_type": "markdown",
      "source": [
        "### QUESTION-2"
      ],
      "metadata": {
        "id": "AA4usiSXAzx2"
      }
    },
    {
      "cell_type": "code",
      "source": [
        "class ParentClass:\n",
        "    def greeting(self):\n",
        "        print(\"Hello, I'm the Parent Class.\")\n",
        "\n",
        "\n",
        "class ChildClass(ParentClass):\n",
        "    def greeting(self):\n",
        "        print(\"Hello, I'm the Child Class.\")\n",
        "\n",
        "parent = ParentClass()\n",
        "child = ChildClass()\n",
        "\n",
        "parent.greeting()\n",
        "child.greeting()\n"
      ],
      "metadata": {
        "colab": {
          "base_uri": "https://localhost:8080/"
        },
        "id": "U3uu5xSxAnay",
        "outputId": "c334942f-8604-4f03-968f-a6c80cbaf3a8"
      },
      "execution_count": null,
      "outputs": [
        {
          "output_type": "stream",
          "name": "stdout",
          "text": [
            "Hello, I'm the Parent Class.\n",
            "Hello, I'm the Child Class.\n"
          ]
        }
      ]
    },
    {
      "cell_type": "markdown",
      "source": [
        "### QUESTION-3"
      ],
      "metadata": {
        "id": "Hqb7LDaVB75l"
      }
    },
    {
      "cell_type": "code",
      "source": [
        "public class MathOperations {\n",
        "    public int add(int a, int b) {\n",
        "        return a + b;\n",
        "    }\n",
        "\n",
        "    public double add(double a, double b) {\n",
        "        return a + b;\n",
        "    }\n",
        "\n",
        "    public int add(int a, int b, int c) {\n",
        "        return a + b + c;\n",
        "    }\n",
        "\n",
        "    public static void main(String[] args) {\n",
        "        MathOperations math = new MathOperations();\n",
        "\n",
        "        int sum1 = math.add(5, 10);\n",
        "        double sum2 = math.add(3.14, 2.7);\n",
        "        int sum3 = math.add(1, 2, 3);\n",
        "\n",
        "        System.out.println(\"Sum 1: \" + sum1);   // Output: Sum 1: 15\n",
        "        System.out.println(\"Sum 2: \" + sum2);   // Output: Sum 2: 5.84\n",
        "        System.out.println(\"Sum 3: \" + sum3);   // Output: Sum 3: 6\n",
        "    }\n",
        "}\n"
      ],
      "metadata": {
        "colab": {
          "base_uri": "https://localhost:8080/",
          "height": 130
        },
        "id": "iQKwKK9wCGyX",
        "outputId": "af019839-412d-488f-a2cf-33cd1b7f6437"
      },
      "execution_count": null,
      "outputs": [
        {
          "output_type": "error",
          "ename": "SyntaxError",
          "evalue": "ignored",
          "traceback": [
            "\u001b[0;36m  File \u001b[0;32m\"<ipython-input-14-71dccb5f7f09>\"\u001b[0;36m, line \u001b[0;32m1\u001b[0m\n\u001b[0;31m    public class MathOperations {\u001b[0m\n\u001b[0m           ^\u001b[0m\n\u001b[0;31mSyntaxError\u001b[0m\u001b[0;31m:\u001b[0m invalid syntax\n"
          ]
        }
      ]
    },
    {
      "cell_type": "markdown",
      "source": [
        "### QUESTION-5"
      ],
      "metadata": {
        "id": "fWsJNGETEbD9"
      }
    },
    {
      "cell_type": "markdown",
      "source": [
        "To achieve loose coupling in Java using object-oriented programming (OOP) concepts, you can follow these...\n",
        "\n",
        "* Encapsulation\n",
        "\n",
        "* Abstraction\n",
        "\n",
        "* Dependency Inversion Principle (DIP)\n",
        "\n",
        "* Dependency Injection (DI)\n",
        "\n",
        "* Interface-based programming\n",
        "\n",
        "* Event-driven programming"
      ],
      "metadata": {
        "id": "t2-6T026EfZU"
      }
    },
    {
      "cell_type": "markdown",
      "source": [
        "### QUESTION - 6"
      ],
      "metadata": {
        "id": "FrIEwAqhGfxd"
      }
    },
    {
      "cell_type": "markdown",
      "source": [
        "\n",
        "\n",
        "Encapsulation in Java refers to the bundling of data (attributes) and methods (behaviors) into a single unit, called a class. It provides several benefits, including:\n",
        "\n",
        "* Data Hiding: Encapsulation allows you to hide the internal implementation details of a class by making the attributes private.\n",
        "\n",
        "* Data Protection: This helps maintain the integrity and consistency of the data and prevents unauthorized access.\n",
        "\n",
        "* Code Organization and Modularity: Encapsulation promotes code organization and modularity. By bundling related data and behaviors into a class, you create a modular unit that can be easily understood, maintained, and reused.\n",
        "\n",
        "* Easy Maintenance and Evolution: This promotes easier maintenance, bug fixes, and evolution of code without causing ripple effects throughout the codebase.\n",
        "\n",
        "* Code Reusability: Encapsulation facilitates code reusability. Encapsulated classes can be treated as black boxes, allowing developers to focus on how to use the class rather than how it is implemented internally."
      ],
      "metadata": {
        "id": "XUa0tH69FtMK"
      }
    },
    {
      "cell_type": "markdown",
      "source": [
        "### QUESTION-7"
      ],
      "metadata": {
        "id": "y_TWmHQlGhdU"
      }
    },
    {
      "cell_type": "markdown",
      "source": [
        "\n",
        "No, Java is not considered a 100% pure Object-Oriented Programming (OOP) language. While Java is primarily an object-oriented language, it does incorporate some non-object-oriented features and concepts. These are the few reasons...\n",
        "\n",
        "* Primitive Data Types: Java includes primitive data types such as int, double, boolean, etc., which are not objects. These types do not have associated methods or behaviors like objects do.\n",
        "\n",
        "* Static Methods and Variables: Java allows the creation of static methods and variables that belong to a class rather than an instance of a class. Static members are not associated with specific objects and can be accessed without instantiating a class. This deviates from the concept of pure OOP, where everything is an object and operates through object instances.\n",
        "\n",
        "* Procedural Programming: Procedural programming involves breaking down a program into smaller, reusable procedures or functions, whereas OOP focuses on encapsulating data and behaviors within objects.\n",
        "\n",
        "* Inheritance Limitations: Java only supports single inheritance, where a class can inherit from only one parent class. Pure OOP languages, such as Smalltalk, support multiple inheritance, allowing a class to inherit from multiple parent classes. Java uses interfaces to overcome this limitation, which promotes interface-based programming."
      ],
      "metadata": {
        "id": "f135weFwGkn5"
      }
    },
    {
      "cell_type": "markdown",
      "source": [
        "### QUESTION-8"
      ],
      "metadata": {
        "id": "3yvonjgwHlaV"
      }
    },
    {
      "cell_type": "markdown",
      "source": [
        "Abstraction in Java is a concept that allows you to define abstract classes and interfaces, providing a high-level view of functionality without exposing implementation details. It offers several advantages, including:\n",
        "\n",
        "Modularity and Code Organization: Abstraction helps in organizing code into manageable and reusable modules. By defining abstract classes and interfaces, you create a clear separation between the interface and implementation, making the code more modular and maintainable.\n",
        "\n",
        "Encapsulation of Complexity: Abstraction allows you to hide complex implementation details behind a simplified interface. By providing only the essential methods and properties in the abstract class or interface, you can encapsulate the complexity of the underlying implementation, making it easier for other code to interact with the abstraction.\n",
        "\n",
        "Code Reusability: Abstraction promotes code reusability. By defining abstract classes and interfaces, you can create a contract or blueprint that can be implemented by multiple classes. This enables you to reuse the abstract class or interface in different parts of your codebase, avoiding code duplication and promoting consistency.\n",
        "\n",
        "Polymorphism and Flexibility: Abstraction plays a key role in achieving polymorphism, allowing different classes to be treated interchangeably based on a common interface or abstract class. This flexibility enables you to write code that is more generic and adaptable to different implementations, promoting extensibility and ease of future modifications.\n",
        "\n",
        "Loose Coupling: Abstraction helps in reducing coupling between components. By depending on abstractions (interfaces or abstract classes) rather than concrete implementations, you decouple code modules from specific implementations. This promotes loose coupling, making it easier to modify and replace implementations without affecting the code that depends on the abstraction.\n",
        "\n",
        "Focus on Essential Concepts: Abstraction allows you to focus on the essential concepts and behaviors of an object or system, without getting lost in the details of its internal implementation. This promotes a higher-level understanding of the problem domain, making the code more readable, maintainable, and aligned with real-world concepts."
      ],
      "metadata": {
        "id": "Os5fdRleHoLq"
      }
    },
    {
      "cell_type": "markdown",
      "source": [
        "### QUESTION-9"
      ],
      "metadata": {
        "id": "q9uFKGu_JBjS"
      }
    },
    {
      "cell_type": "markdown",
      "source": [
        "Abstraction is a concept in object-oriented programming that allows you to create abstract classes and interfaces to provide a high-level view of functionality without exposing the implementation details. It focuses on what an object does rather than how it does it.\n",
        "\n",
        "Example:"
      ],
      "metadata": {
        "id": "RQawayyWJQG3"
      }
    },
    {
      "cell_type": "markdown",
      "source": [
        "### QUESTION-10"
      ],
      "metadata": {
        "id": "-MC5W4kuJ7x3"
      }
    },
    {
      "cell_type": "markdown",
      "source": [
        "In Java, a final class is a class that cannot be extended or subclassed. Once a class is declared as final, it cannot have any subclasses.\n",
        "\n",
        "Here are some key points about final classes in Java:\n",
        "\n",
        "* Inheritance Restriction: The final keyword, when applied to a class, restricts other classes from inheriting from it. This means that the final class cannot be used as a superclass for any other class.\n",
        "\n",
        "* Preventing Overriding: By making a class final, you prevent any methods within that class from being overridden by subclasses. All methods within a final class are implicitly final as well.\n",
        "\n",
        "* Security and Integrity: Final classes are useful in ensuring the integrity and security of the class implementation. By disallowing inheritance and preventing method overrides, you have more control over the behavior and implementation of the class.\n",
        "\n",
        "* Performance Optimization: Final classes can sometimes provide performance benefits by enabling the Java compiler and runtime to perform certain optimizations."
      ],
      "metadata": {
        "id": "kysLMat_KA8w"
      }
    },
    {
      "cell_type": "code",
      "source": [],
      "metadata": {
        "id": "LyKNol7x8n2G"
      },
      "execution_count": null,
      "outputs": []
    }
  ]
}